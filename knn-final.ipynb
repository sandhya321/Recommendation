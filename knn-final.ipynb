{
 "cells": [
  {
   "cell_type": "code",
   "execution_count": 28,
   "metadata": {},
   "outputs": [],
   "source": [
    "\n",
    "import sys\n",
    "import string\n",
    "import numpy as np\n",
    "import pandas as pd\n",
    "import matplotlib.pyplot as plt\n",
    "import seaborn as sns\n",
    "from sklearn import cross_validation  \n",
    "from sklearn.cross_validation import KFold\n",
    "from sklearn.model_selection import cross_val_predict \n",
    "from sklearn.model_selection import cross_val_score\n",
    "from sklearn.neighbors import KNeighborsClassifier\n",
    "from sklearn.metrics import accuracy_score\n",
    "from sklearn.metrics import precision_recall_fscore_support\n",
    "from sklearn.metrics import classification_report\n",
    "from sklearn.neighbors import NearestNeighbors\n",
    "\n",
    "%matplotlib inline"
   ]
  },
  {
   "cell_type": "code",
   "execution_count": 16,
   "metadata": {
    "scrolled": false
   },
   "outputs": [
    {
     "name": "stderr",
     "output_type": "stream",
     "text": [
      "C:\\Users\\sandhya\\Anaconda3\\lib\\site-packages\\pandas\\util\\_decorators.py:118: FutureWarning: The `sheetname` keyword is deprecated, use `sheet_name` instead\n",
      "  return func(*args, **kwargs)\n"
     ]
    }
   ],
   "source": [
    "path='scores_1.xlsx'\n",
    "train=pd.read_excel(path, sheetname='Matrix with data')\n",
    "test=pd.read_excel(path, sheetname='test data')"
   ]
  },
  {
   "cell_type": "code",
   "execution_count": 17,
   "metadata": {},
   "outputs": [
    {
     "data": {
      "text/plain": [
       "array(['sku', 'Feature 1', 'Feature 2', 'Feature 3', 'Feature 4',\n",
       "       'Feature 5', 'Feature 6', 'Feature 7', 'Feature 8', 'Feature 9',\n",
       "       'Feature 10', 'Feature 11', 'Feature 12', 'Feature 13',\n",
       "       'Feature 14', 'Feature 15', 'Feature 16', 'Feature 17',\n",
       "       'Feature 18', 'Feature 19', 'Feature 20', 'Feature 21',\n",
       "       'Feature 22', 'Feature 23', 'Feature 24', 'Feature 25',\n",
       "       'Feature 26', 'Feature 27', 'Feature 28', 'Feature 29',\n",
       "       'Feature 30', 'Feature 31', 'Feature 32', 'Feature 33',\n",
       "       'Feature 34', 'Feature 35', 'Feature 36', 'Feature 37',\n",
       "       'Feature 38', 'Feature 39', 'Feature 40', 'Feature 41',\n",
       "       'Feature 42', 'Feature 43', 'Feature 44', 'Feature 45',\n",
       "       'Feature 46', 'Feature 47', 'Feature 48', 'Feature 49',\n",
       "       'Feature 50', 'Feature 51', 'Feature 52', 'Feature 53',\n",
       "       'Feature 54', 'Feature 55', 'Feature 56', 'Feature 57',\n",
       "       'Feature 58', 'Feature 59', 'Feature 60', 'Feature 61',\n",
       "       'Feature 62', 'Feature 63', 'Feature 64', 'Feature 65',\n",
       "       'Feature 66', 'Feature 67', 'Feature 68', 'Feature 69',\n",
       "       'Feature 70', 'Feature 71', 'Feature 72', 'Feature 73',\n",
       "       'Feature 74', 'Feature 75', 'Feature 76', 'Feature 77',\n",
       "       'Feature 78', 'Feature 79', 'Feature 80', 'Feature 81',\n",
       "       'Feature 82', 'Feature 83', 'Feature 84', 'Feature 85',\n",
       "       'Feature 86', 'Feature 87', 'Feature 88', 'Feature 89',\n",
       "       'Feature 90', 'Feature 91', 'Feature 92', 'Feature 93',\n",
       "       'Feature 94', 'Feature 95', 'Feature 96', 'Feature 97',\n",
       "       'Feature 98', 'Feature 99', 'Feature 100', 'Feature 101',\n",
       "       'Feature 102'], dtype=object)"
      ]
     },
     "execution_count": 17,
     "metadata": {},
     "output_type": "execute_result"
    }
   ],
   "source": [
    "train.columns.values"
   ]
  },
  {
   "cell_type": "markdown",
   "metadata": {},
   "source": []
  },
  {
   "cell_type": "code",
   "execution_count": 18,
   "metadata": {
    "scrolled": false
   },
   "outputs": [
    {
     "data": {
      "text/plain": [
       "0     Prod 1\n",
       "1    Prod 41\n",
       "2    Prod 16\n",
       "Name: sku, dtype: object"
      ]
     },
     "execution_count": 18,
     "metadata": {},
     "output_type": "execute_result"
    }
   ],
   "source": [
    "train_x = train.iloc[:, 1:]\n",
    "train_y = train.iloc[:,0]\n",
    "test_x = test.iloc[:, 1:]\n",
    "test_y = test.iloc[:,0]\n",
    "test_y\n"
   ]
  },
  {
   "cell_type": "code",
   "execution_count": 19,
   "metadata": {},
   "outputs": [
    {
     "data": {
      "text/html": [
       "<div>\n",
       "<style scoped>\n",
       "    .dataframe tbody tr th:only-of-type {\n",
       "        vertical-align: middle;\n",
       "    }\n",
       "\n",
       "    .dataframe tbody tr th {\n",
       "        vertical-align: top;\n",
       "    }\n",
       "\n",
       "    .dataframe thead th {\n",
       "        text-align: right;\n",
       "    }\n",
       "</style>\n",
       "<table border=\"1\" class=\"dataframe\">\n",
       "  <thead>\n",
       "    <tr style=\"text-align: right;\">\n",
       "      <th></th>\n",
       "      <th>sku</th>\n",
       "      <th>Feature 1</th>\n",
       "      <th>Feature 2</th>\n",
       "      <th>Feature 3</th>\n",
       "      <th>Feature 4</th>\n",
       "      <th>Feature 5</th>\n",
       "      <th>Feature 6</th>\n",
       "      <th>Feature 7</th>\n",
       "      <th>Feature 8</th>\n",
       "      <th>Feature 9</th>\n",
       "      <th>...</th>\n",
       "      <th>Feature 93</th>\n",
       "      <th>Feature 94</th>\n",
       "      <th>Feature 95</th>\n",
       "      <th>Feature 96</th>\n",
       "      <th>Feature 97</th>\n",
       "      <th>Feature 98</th>\n",
       "      <th>Feature 99</th>\n",
       "      <th>Feature 100</th>\n",
       "      <th>Feature 101</th>\n",
       "      <th>Feature 102</th>\n",
       "    </tr>\n",
       "  </thead>\n",
       "  <tbody>\n",
       "    <tr>\n",
       "      <th>0</th>\n",
       "      <td>Prod 1</td>\n",
       "      <td>1.7</td>\n",
       "      <td>1.3</td>\n",
       "      <td>4.0</td>\n",
       "      <td>1.8</td>\n",
       "      <td>4.0</td>\n",
       "      <td>1.5</td>\n",
       "      <td>4.1</td>\n",
       "      <td>4.0</td>\n",
       "      <td>2.2</td>\n",
       "      <td>...</td>\n",
       "      <td>2.3</td>\n",
       "      <td>2.3</td>\n",
       "      <td>1.9</td>\n",
       "      <td>1.8</td>\n",
       "      <td>1.7</td>\n",
       "      <td>2.1</td>\n",
       "      <td>2.2</td>\n",
       "      <td>2.3</td>\n",
       "      <td>1.8</td>\n",
       "      <td>1.9</td>\n",
       "    </tr>\n",
       "    <tr>\n",
       "      <th>1</th>\n",
       "      <td>Prod 41</td>\n",
       "      <td>1.5</td>\n",
       "      <td>2.0</td>\n",
       "      <td>1.7</td>\n",
       "      <td>1.5</td>\n",
       "      <td>1.8</td>\n",
       "      <td>1.9</td>\n",
       "      <td>3.0</td>\n",
       "      <td>2.1</td>\n",
       "      <td>2.2</td>\n",
       "      <td>...</td>\n",
       "      <td>2.3</td>\n",
       "      <td>2.3</td>\n",
       "      <td>1.9</td>\n",
       "      <td>1.8</td>\n",
       "      <td>1.7</td>\n",
       "      <td>2.1</td>\n",
       "      <td>2.2</td>\n",
       "      <td>2.3</td>\n",
       "      <td>2.1</td>\n",
       "      <td>2.1</td>\n",
       "    </tr>\n",
       "    <tr>\n",
       "      <th>2</th>\n",
       "      <td>Prod 16</td>\n",
       "      <td>1.7</td>\n",
       "      <td>1.3</td>\n",
       "      <td>1.5</td>\n",
       "      <td>1.9</td>\n",
       "      <td>1.7</td>\n",
       "      <td>1.6</td>\n",
       "      <td>2.2</td>\n",
       "      <td>2.1</td>\n",
       "      <td>2.2</td>\n",
       "      <td>...</td>\n",
       "      <td>2.3</td>\n",
       "      <td>2.3</td>\n",
       "      <td>1.9</td>\n",
       "      <td>1.8</td>\n",
       "      <td>1.7</td>\n",
       "      <td>2.1</td>\n",
       "      <td>2.2</td>\n",
       "      <td>2.3</td>\n",
       "      <td>2.1</td>\n",
       "      <td>1.9</td>\n",
       "    </tr>\n",
       "  </tbody>\n",
       "</table>\n",
       "<p>3 rows × 103 columns</p>\n",
       "</div>"
      ],
      "text/plain": [
       "       sku  Feature 1  Feature 2  Feature 3  Feature 4  Feature 5  Feature 6  \\\n",
       "0   Prod 1        1.7        1.3        4.0        1.8        4.0        1.5   \n",
       "1  Prod 41        1.5        2.0        1.7        1.5        1.8        1.9   \n",
       "2  Prod 16        1.7        1.3        1.5        1.9        1.7        1.6   \n",
       "\n",
       "   Feature 7  Feature 8  Feature 9     ...       Feature 93  Feature 94  \\\n",
       "0        4.1        4.0        2.2     ...              2.3         2.3   \n",
       "1        3.0        2.1        2.2     ...              2.3         2.3   \n",
       "2        2.2        2.1        2.2     ...              2.3         2.3   \n",
       "\n",
       "   Feature 95  Feature 96  Feature 97  Feature 98  Feature 99  Feature 100  \\\n",
       "0         1.9         1.8         1.7         2.1         2.2          2.3   \n",
       "1         1.9         1.8         1.7         2.1         2.2          2.3   \n",
       "2         1.9         1.8         1.7         2.1         2.2          2.3   \n",
       "\n",
       "   Feature 101  Feature 102  \n",
       "0          1.8          1.9  \n",
       "1          2.1          2.1  \n",
       "2          2.1          1.9  \n",
       "\n",
       "[3 rows x 103 columns]"
      ]
     },
     "execution_count": 19,
     "metadata": {},
     "output_type": "execute_result"
    }
   ],
   "source": [
    "test.head()"
   ]
  },
  {
   "cell_type": "code",
   "execution_count": 20,
   "metadata": {},
   "outputs": [
    {
     "data": {
      "text/plain": [
       "(75, 103)"
      ]
     },
     "execution_count": 20,
     "metadata": {},
     "output_type": "execute_result"
    }
   ],
   "source": [
    "train.shape"
   ]
  },
  {
   "cell_type": "code",
   "execution_count": 21,
   "metadata": {},
   "outputs": [
    {
     "data": {
      "text/plain": [
       "(3, 103)"
      ]
     },
     "execution_count": 21,
     "metadata": {},
     "output_type": "execute_result"
    }
   ],
   "source": [
    "test.shape"
   ]
  },
  {
   "cell_type": "code",
   "execution_count": 22,
   "metadata": {
    "scrolled": false
   },
   "outputs": [
    {
     "data": {
      "text/plain": [
       "0"
      ]
     },
     "execution_count": 22,
     "metadata": {},
     "output_type": "execute_result"
    }
   ],
   "source": [
    "#cheching if there are any missing values\n",
    "train.isnull().sum().max()"
   ]
  },
  {
   "cell_type": "code",
   "execution_count": 23,
   "metadata": {},
   "outputs": [
    {
     "name": "stdout",
     "output_type": "stream",
     "text": [
      "0.333333333333\n",
      "[' Prod 1' 'Prod 40' 'Prod 12']\n",
      "0     Prod 1\n",
      "1    Prod 41\n",
      "2    Prod 16\n",
      "Name: sku, dtype: object\n"
     ]
    },
    {
     "data": {
      "text/plain": [
       "array([[ 0,  1,  2],\n",
       "       [39, 40, 41],\n",
       "       [16, 11, 22]], dtype=int64)"
      ]
     },
     "execution_count": 23,
     "metadata": {},
     "output_type": "execute_result"
    }
   ],
   "source": [
    "knn = KNeighborsClassifier(n_neighbors=3, algorithm='auto')\n",
    "\n",
    "# fitting the model\n",
    "knn.fit(train_x, train_y)\n",
    "\n",
    "# predict the response\n",
    "pred = knn.predict(test_x)\n",
    "\n",
    "# evaluate accuracy\n",
    "print(accuracy_score(test_y, pred))\n",
    "print(pred)\n",
    "print(test_y)\n",
    "knn.kneighbors(test_x, 3, False)"
   ]
  },
  {
   "cell_type": "code",
   "execution_count": 24,
   "metadata": {},
   "outputs": [
    {
     "name": "stderr",
     "output_type": "stream",
     "text": [
      "C:\\Users\\sandhya\\Anaconda3\\lib\\site-packages\\sklearn\\metrics\\classification.py:1135: UndefinedMetricWarning: Precision and F-score are ill-defined and being set to 0.0 in labels with no predicted samples.\n",
      "  'precision', 'predicted', average, warn_for)\n",
      "C:\\Users\\sandhya\\Anaconda3\\lib\\site-packages\\sklearn\\metrics\\classification.py:1137: UndefinedMetricWarning: Recall and F-score are ill-defined and being set to 0.0 in labels with no true samples.\n",
      "  'recall', 'true', average, warn_for)\n"
     ]
    },
    {
     "data": {
      "text/plain": [
       "(0.33333333333333331, 0.33333333333333331, 0.33333333333333331, None)"
      ]
     },
     "execution_count": 24,
     "metadata": {},
     "output_type": "execute_result"
    }
   ],
   "source": [
    "\n",
    "precision_recall_fscore_support(test_y, pred, average='weighted')"
   ]
  },
  {
   "cell_type": "code",
   "execution_count": 31,
   "metadata": {},
   "outputs": [
    {
     "name": "stdout",
     "output_type": "stream",
     "text": [
      "100.00 %\n",
      "\n"
     ]
    }
   ],
   "source": [
    "#This is a multi class classification. where each row is a class. So to find the accuracy of the model, I randomly,\n",
    "#sampled 10 observations for testing.\n",
    "\n",
    "\n",
    "cv_scores=[]\n",
    "def val():\n",
    "    \"\"\"to find the cross validation score\"\"\"\n",
    "    knn = KNeighborsClassifier(n_neighbors=1)\n",
    "    knn.fit(train_x, train_y)\n",
    "    for n in range(1):\n",
    "        sampled_test= train.sample(n=10)\n",
    "        sampled_test_x=sampled_test.iloc[:, 1:]\n",
    "        sampled_test_y = sampled_test.iloc[:,0]\n",
    "        pred_s = knn.predict(sampled_test_x)\n",
    "        scores=accuracy_score(sampled_test_y, pred_s)\n",
    "        cv_scores.append(scores.mean())\n",
    "        \n",
    "    print(\"%.2f %%\\n\" % (np.mean(cv_scores)*100))\n",
    "    return\n",
    " \n",
    "val()"
   ]
  },
  {
   "cell_type": "code",
   "execution_count": 30,
   "metadata": {},
   "outputs": [],
   "source": [
    "def nearneighbours(k):\n",
    "    \"\"\" Function to find the nearest neighbors\"\"\"\n",
    "    nbrs = NearestNeighbors(n_neighbors=k, algorithm='auto').fit(train_x,train_y)\n",
    "\n",
    "# Let's find the k-neighbors of each point in object X. To do that we call the kneighbors() function on object X.\n",
    "    distances, indices = nbrs.kneighbors(test_x)\n",
    "    yy=pd.DataFrame.from_records(indices)\n",
    "    for i in range(len(test)):\n",
    "        print('\\n'+'Test case : '+str(i))\n",
    "        print('Actual product taken as test case:   '+test.iloc[i,0]+'\\n'+'\\n'+'Products to be recommended:')\n",
    "        print(train.iloc[yy.iloc[i],0])\n",
    "    return\n",
    "\n"
   ]
  },
  {
   "cell_type": "code",
   "execution_count": 29,
   "metadata": {},
   "outputs": [
    {
     "name": "stdout",
     "output_type": "stream",
     "text": [
      "\n",
      "Test case : 0\n",
      "Actual product taken as test case:    Prod 1\n",
      "\n",
      "Products to be recommended:\n",
      "0     Prod 1\n",
      "1     Prod 2\n",
      "2     Prod 3\n",
      "Name: sku, dtype: object\n",
      "\n",
      "Test case : 1\n",
      "Actual product taken as test case:   Prod 41\n",
      "\n",
      "Products to be recommended:\n",
      "39    Prod 40\n",
      "40    Prod 41\n",
      "41    Prod 42\n",
      "Name: sku, dtype: object\n",
      "\n",
      "Test case : 2\n",
      "Actual product taken as test case:   Prod 16\n",
      "\n",
      "Products to be recommended:\n",
      "16    Prod 17\n",
      "11    Prod 12\n",
      "22    Prod 23\n",
      "Name: sku, dtype: object\n"
     ]
    }
   ],
   "source": [
    "if __name__ == '__main__':\n",
    "    nearneighbours(3)"
   ]
  },
  {
   "cell_type": "code",
   "execution_count": null,
   "metadata": {
    "collapsed": true
   },
   "outputs": [],
   "source": []
  }
 ],
 "metadata": {
  "kernelspec": {
   "display_name": "Python 3",
   "language": "python",
   "name": "python3"
  },
  "language_info": {
   "codemirror_mode": {
    "name": "ipython",
    "version": 3
   },
   "file_extension": ".py",
   "mimetype": "text/x-python",
   "name": "python",
   "nbconvert_exporter": "python",
   "pygments_lexer": "ipython3",
   "version": "3.6.3"
  }
 },
 "nbformat": 4,
 "nbformat_minor": 2
}
